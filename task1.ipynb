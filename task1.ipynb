{
 "cells": [
  {
   "cell_type": "code",
   "execution_count": 21,
   "id": "34c42c5a",
   "metadata": {},
   "outputs": [
    {
     "name": "stdout",
     "output_type": "stream",
     "text": [
      "File 1 shape: (12261, 9)\n",
      "File 2 shape: (206529, 9)\n",
      "File 3 shape: (224489, 9)\n",
      "File 4 shape: (224489, 9)\n",
      "File 5 shape: (224489, 9)\n"
     ]
    }
   ],
   "source": [
    "import pandas as pd\n",
    "\n",
    "# Replace these with your actual file names\n",
    "files = ['2017PurchasePricesDec.csv', 'BegInvFINAL12312016.csv', 'EndInvFINAL12312016.csv', 'EndInvFINAL12312016.csv', 'EndInvFINAL12312016.csv']\n",
    "\n",
    "# Read all files into a list of DataFrames\n",
    "dataframes = [pd.read_csv(file) for file in files]\n",
    "\n",
    "# Example: print the shape of each DataFrame\n",
    "for i, df in enumerate(dataframes, 1):\n",
    "    print(f\"File {i} shape: {df.shape}\")\n"
   ]
  },
  {
   "cell_type": "code",
   "execution_count": 22,
   "id": "37e1357a",
   "metadata": {},
   "outputs": [
    {
     "name": "stdout",
     "output_type": "stream",
     "text": [
      "   Brand                  Description  Price   Size Volume  Classification  \\\n",
      "0     58  Gekkeikan Black & Gold Sake  12.99  750mL    750             1.0   \n",
      "1     62     Herradura Silver Tequila  36.99  750mL    750             1.0   \n",
      "2     63   Herradura Reposado Tequila  38.99  750mL    750             1.0   \n",
      "3     72         No. 3 London Dry Gin  34.99  750mL    750             1.0   \n",
      "4     75    Three Olives Tomato Vodka  14.99  750mL    750             1.0   \n",
      "\n",
      "   PurchasePrice  VendorNumber                   VendorName InventoryId  \\\n",
      "0           9.28        8320.0  SHAW ROSS INT L IMP LTD             NaN   \n",
      "1          28.67        1128.0  BROWN-FORMAN CORP                   NaN   \n",
      "2          30.46        1128.0  BROWN-FORMAN CORP                   NaN   \n",
      "3          26.11        9165.0  ULTRA BEVERAGE COMPANY LLP          NaN   \n",
      "4          10.94        7245.0  PROXIMO SPIRITS INC.                NaN   \n",
      "\n",
      "   Store City  onHand startDate endDate  \n",
      "0    NaN  NaN     NaN       NaN     NaN  \n",
      "1    NaN  NaN     NaN       NaN     NaN  \n",
      "2    NaN  NaN     NaN       NaN     NaN  \n",
      "3    NaN  NaN     NaN       NaN     NaN  \n",
      "4    NaN  NaN     NaN       NaN     NaN  \n"
     ]
    }
   ],
   "source": [
    "combined_df = pd.concat(dataframes, ignore_index=True)\n",
    "\n",
    "print(combined_df.head())\n"
   ]
  },
  {
   "cell_type": "code",
   "execution_count": 23,
   "id": "1c0f8f20",
   "metadata": {},
   "outputs": [
    {
     "data": {
      "text/plain": [
       "Brand                  0\n",
       "Description            1\n",
       "Price                  0\n",
       "Size                   1\n",
       "Volume            879997\n",
       "Classification    879996\n",
       "PurchasePrice     879996\n",
       "VendorNumber      879996\n",
       "VendorName        879996\n",
       "InventoryId        12261\n",
       "Store              12261\n",
       "City               16113\n",
       "onHand             12261\n",
       "startDate         685728\n",
       "endDate           218790\n",
       "dtype: int64"
      ]
     },
     "execution_count": 23,
     "metadata": {},
     "output_type": "execute_result"
    }
   ],
   "source": [
    "combined_df.isnull().sum()"
   ]
  },
  {
   "cell_type": "code",
   "execution_count": 25,
   "id": "d29b9bd3",
   "metadata": {},
   "outputs": [
    {
     "name": "stderr",
     "output_type": "stream",
     "text": [
      "C:\\Users\\agraw\\AppData\\Local\\Temp\\ipykernel_19268\\4279208896.py:4: DtypeWarning: Columns (4,8,13,14) have mixed types. Specify dtype option on import or set low_memory=False.\n",
      "  df = pd.read_csv('combined_data.csv')\n"
     ]
    },
    {
     "name": "stdout",
     "output_type": "stream",
     "text": [
      "   Brand                  Description  Price   Size Volume  Classification  \\\n",
      "0     58  Gekkeikan Black & Gold Sake  12.99  750mL    750             1.0   \n",
      "1     62     Herradura Silver Tequila  36.99  750mL    750             1.0   \n",
      "2     63   Herradura Reposado Tequila  38.99  750mL    750             1.0   \n",
      "3     72         No. 3 London Dry Gin  34.99  750mL    750             1.0   \n",
      "4     75    Three Olives Tomato Vodka  14.99  750mL    750             1.0   \n",
      "\n",
      "   PurchasePrice  VendorNumber                   VendorName InventoryId  \\\n",
      "0           9.28        8320.0  SHAW ROSS INT L IMP LTD             NaN   \n",
      "1          28.67        1128.0  BROWN-FORMAN CORP                   NaN   \n",
      "2          30.46        1128.0  BROWN-FORMAN CORP                   NaN   \n",
      "3          26.11        9165.0  ULTRA BEVERAGE COMPANY LLP          NaN   \n",
      "4          10.94        7245.0  PROXIMO SPIRITS INC.                NaN   \n",
      "\n",
      "   Store City  onHand startDate endDate  \n",
      "0    NaN  NaN     NaN       NaN     NaN  \n",
      "1    NaN  NaN     NaN       NaN     NaN  \n",
      "2    NaN  NaN     NaN       NaN     NaN  \n",
      "3    NaN  NaN     NaN       NaN     NaN  \n",
      "4    NaN  NaN     NaN       NaN     NaN  \n"
     ]
    }
   ],
   "source": [
    "import pandas as pd\n",
    "\n",
    "# Replace 'your_file.csv' with your actual file path\n",
    "df = pd.read_csv('combined_data.csv')\n",
    "\n",
    "# Display the first few rows\n",
    "print(df.head())\n"
   ]
  },
  {
   "cell_type": "code",
   "execution_count": 26,
   "id": "00159d12",
   "metadata": {},
   "outputs": [
    {
     "name": "stdout",
     "output_type": "stream",
     "text": [
      "<class 'pandas.core.frame.DataFrame'>\n",
      "RangeIndex: 892257 entries, 0 to 892256\n",
      "Data columns (total 15 columns):\n",
      " #   Column          Non-Null Count   Dtype  \n",
      "---  ------          --------------   -----  \n",
      " 0   Brand           892257 non-null  int64  \n",
      " 1   Description     892256 non-null  object \n",
      " 2   Price           892257 non-null  float64\n",
      " 3   Size            892256 non-null  object \n",
      " 4   Volume          12260 non-null   object \n",
      " 5   Classification  12261 non-null   float64\n",
      " 6   PurchasePrice   12261 non-null   float64\n",
      " 7   VendorNumber    12261 non-null   float64\n",
      " 8   VendorName      12261 non-null   object \n",
      " 9   InventoryId     879996 non-null  object \n",
      " 10  Store           879996 non-null  float64\n",
      " 11  City            876144 non-null  object \n",
      " 12  onHand          879996 non-null  float64\n",
      " 13  startDate       206529 non-null  object \n",
      " 14  endDate         673467 non-null  object \n",
      "dtypes: float64(6), int64(1), object(8)\n",
      "memory usage: 102.1+ MB\n"
     ]
    }
   ],
   "source": [
    "df.info()"
   ]
  },
  {
   "cell_type": "code",
   "execution_count": 27,
   "id": "c793f4b6",
   "metadata": {},
   "outputs": [
    {
     "data": {
      "text/plain": [
       "Brand                  0\n",
       "Description            1\n",
       "Price                  0\n",
       "Size                   1\n",
       "Volume            879997\n",
       "Classification    879996\n",
       "PurchasePrice     879996\n",
       "VendorNumber      879996\n",
       "VendorName        879996\n",
       "InventoryId        12261\n",
       "Store              12261\n",
       "City               16113\n",
       "onHand             12261\n",
       "startDate         685728\n",
       "endDate           218790\n",
       "dtype: int64"
      ]
     },
     "execution_count": 27,
     "metadata": {},
     "output_type": "execute_result"
    }
   ],
   "source": [
    "df.isnull().sum()"
   ]
  },
  {
   "cell_type": "code",
   "execution_count": 28,
   "id": "017defcd",
   "metadata": {},
   "outputs": [
    {
     "name": "stdout",
     "output_type": "stream",
     "text": [
      "Total duplicate rows: 448978\n"
     ]
    }
   ],
   "source": [
    "duplicates = df[df.duplicated()]\n",
    "print(f\"Total duplicate rows: {len(duplicates)}\")\n"
   ]
  },
  {
   "cell_type": "code",
   "execution_count": 29,
   "id": "770e228e",
   "metadata": {},
   "outputs": [
    {
     "name": "stdout",
     "output_type": "stream",
     "text": [
      "(0, 15)\n"
     ]
    }
   ],
   "source": [
    "clean_df = df.dropna()  # removes all rows with any missing values\n",
    "print(clean_df.shape)\n"
   ]
  },
  {
   "cell_type": "code",
   "execution_count": 30,
   "id": "44de1eae",
   "metadata": {},
   "outputs": [
    {
     "name": "stdout",
     "output_type": "stream",
     "text": [
      "               Brand          Price  Classification  PurchasePrice  \\\n",
      "count  892257.000000  892257.000000    12261.000000   12261.000000   \n",
      "mean    14268.591800      23.484218        1.708996      26.488220   \n",
      "std     13106.614359      80.388438        0.454244     156.182948   \n",
      "min        58.000000       0.000000        1.000000       0.000000   \n",
      "25%      3790.000000       9.990000        1.000000       6.890000   \n",
      "50%      8218.000000      14.990000        2.000000      10.650000   \n",
      "75%     23616.000000      22.990000        2.000000      20.130000   \n",
      "max     90631.000000   13999.900000        2.000000   11111.030000   \n",
      "\n",
      "        VendorNumber          Store         onHand  \n",
      "count   12261.000000  879996.000000  879996.000000  \n",
      "mean    10814.861757      43.181093      21.450783  \n",
      "std     19007.682322      23.302133      35.967792  \n",
      "min         2.000000       1.000000       0.000000  \n",
      "25%      3960.000000      23.000000       7.000000  \n",
      "50%      7153.000000      44.000000      12.000000  \n",
      "75%      9552.000000      65.000000      22.000000  \n",
      "max    173357.000000      81.000000    3676.000000  \n",
      "<class 'pandas.core.frame.DataFrame'>\n",
      "RangeIndex: 892257 entries, 0 to 892256\n",
      "Data columns (total 15 columns):\n",
      " #   Column          Non-Null Count   Dtype  \n",
      "---  ------          --------------   -----  \n",
      " 0   Brand           892257 non-null  int64  \n",
      " 1   Description     892256 non-null  object \n",
      " 2   Price           892257 non-null  float64\n",
      " 3   Size            892256 non-null  object \n",
      " 4   Volume          12260 non-null   object \n",
      " 5   Classification  12261 non-null   float64\n",
      " 6   PurchasePrice   12261 non-null   float64\n",
      " 7   VendorNumber    12261 non-null   float64\n",
      " 8   VendorName      12261 non-null   object \n",
      " 9   InventoryId     879996 non-null  object \n",
      " 10  Store           879996 non-null  float64\n",
      " 11  City            876144 non-null  object \n",
      " 12  onHand          879996 non-null  float64\n",
      " 13  startDate       206529 non-null  object \n",
      " 14  endDate         673467 non-null  object \n",
      "dtypes: float64(6), int64(1), object(8)\n",
      "memory usage: 102.1+ MB\n",
      "None\n"
     ]
    }
   ],
   "source": [
    "print(df.describe())\n",
    "print(df.info())\n"
   ]
  },
  {
   "cell_type": "code",
   "execution_count": 31,
   "id": "17176f74",
   "metadata": {},
   "outputs": [
    {
     "name": "stdout",
     "output_type": "stream",
     "text": [
      "Duplicate Rows: 448978\n"
     ]
    }
   ],
   "source": [
    "# Check for duplicates\n",
    "duplicates = df[df.duplicated()]\n",
    "print(f\"Duplicate Rows: {len(duplicates)}\")\n",
    "\n",
    "# Remove duplicates\n",
    "df = df.drop_duplicates()\n"
   ]
  },
  {
   "cell_type": "code",
   "execution_count": 32,
   "id": "bed8832d",
   "metadata": {},
   "outputs": [
    {
     "name": "stdout",
     "output_type": "stream",
     "text": [
      "Index(['Brand', 'Description', 'Price', 'Size', 'Volume', 'Classification',\n",
      "       'PurchasePrice', 'VendorNumber', 'VendorName'],\n",
      "      dtype='object')\n"
     ]
    }
   ],
   "source": [
    "df = df.drop(columns=['startDate', 'endDate','onHand','InventoryId', 'Store', 'City'])\n",
    "\n",
    "# Verify the result\n",
    "print(df.columns)"
   ]
  },
  {
   "cell_type": "code",
   "execution_count": 33,
   "id": "7a3d309b",
   "metadata": {},
   "outputs": [],
   "source": [
    "df = df.drop(columns=['Volume'])"
   ]
  },
  {
   "cell_type": "code",
   "execution_count": 34,
   "id": "010c5c44",
   "metadata": {},
   "outputs": [],
   "source": [
    "df = df.rename(columns={'Size': 'Volume'})"
   ]
  },
  {
   "cell_type": "code",
   "execution_count": 35,
   "id": "c20aad34",
   "metadata": {},
   "outputs": [
    {
     "data": {
      "text/plain": [
       "Brand                  0\n",
       "Description            1\n",
       "Price                  0\n",
       "Volume                 1\n",
       "Classification    431018\n",
       "PurchasePrice     431018\n",
       "VendorNumber      431018\n",
       "VendorName        431018\n",
       "dtype: int64"
      ]
     },
     "execution_count": 35,
     "metadata": {},
     "output_type": "execute_result"
    }
   ],
   "source": [
    "df.isnull().sum()"
   ]
  },
  {
   "cell_type": "code",
   "execution_count": 36,
   "id": "1bd12e49",
   "metadata": {},
   "outputs": [],
   "source": [
    "df['Classification'] = df['Classification'].fillna(-1)\n",
    "df['PurchasePrice'] = df['PurchasePrice'].fillna(df['PurchasePrice'].median())\n",
    "df['VendorNumber'] = df['VendorNumber'].fillna(-1)\n",
    "df['VendorName'] = df['VendorName'].fillna('No Vendor')\n"
   ]
  },
  {
   "cell_type": "code",
   "execution_count": 37,
   "id": "11d65b6b",
   "metadata": {},
   "outputs": [],
   "source": [
    "df = df.dropna(subset=['Description', 'Volume'])\n"
   ]
  },
  {
   "cell_type": "code",
   "execution_count": 38,
   "id": "385abf83",
   "metadata": {},
   "outputs": [],
   "source": [
    "df['VendorName'] = df['VendorName'].fillna('No Vendor')\n"
   ]
  },
  {
   "cell_type": "code",
   "execution_count": 39,
   "id": "4fcc175a",
   "metadata": {},
   "outputs": [],
   "source": [
    "df['VendorNumber'] = df['VendorNumber'].fillna(-1)\n",
    "df['Classification'] = df['Classification'].fillna(-1)\n"
   ]
  },
  {
   "cell_type": "code",
   "execution_count": 40,
   "id": "8d31a3fe",
   "metadata": {},
   "outputs": [],
   "source": [
    "df['PurchasePrice'] = df['PurchasePrice'].fillna(df['PurchasePrice'].median())\n"
   ]
  },
  {
   "cell_type": "code",
   "execution_count": 41,
   "id": "9610c0b4",
   "metadata": {},
   "outputs": [],
   "source": [
    "df = df[df['Price'] >= 0]\n",
    "df = df[df['PurchasePrice'] >= 0]\n"
   ]
  },
  {
   "cell_type": "code",
   "execution_count": 42,
   "id": "d257d20f",
   "metadata": {},
   "outputs": [],
   "source": [
    "Q1 = df['Price'].quantile(0.25)\n",
    "Q3 = df['Price'].quantile(0.75)\n",
    "IQR = Q3 - Q1\n",
    "df = df[(df['Price'] >= Q1 - 1.5 * IQR) & (df['Price'] <= Q3 + 1.5 * IQR)]\n"
   ]
  },
  {
   "cell_type": "code",
   "execution_count": 43,
   "id": "1786774b",
   "metadata": {},
   "outputs": [],
   "source": [
    "df['Brand'] = df['Brand'].astype('Int64')\n",
    "df['VendorNumber'] = df['VendorNumber'].astype('Int64')\n",
    "df['Classification'] = df['Classification'].astype('Int64')\n"
   ]
  },
  {
   "cell_type": "code",
   "execution_count": 44,
   "id": "50c74a9b",
   "metadata": {},
   "outputs": [],
   "source": [
    "df.to_csv('preprocessed_data.csv', index=False)\n"
   ]
  },
  {
   "cell_type": "code",
   "execution_count": null,
   "id": "e93374d2",
   "metadata": {},
   "outputs": [],
   "source": []
  }
 ],
 "metadata": {
  "kernelspec": {
   "display_name": "Python 3",
   "language": "python",
   "name": "python3"
  },
  "language_info": {
   "codemirror_mode": {
    "name": "ipython",
    "version": 3
   },
   "file_extension": ".py",
   "mimetype": "text/x-python",
   "name": "python",
   "nbconvert_exporter": "python",
   "pygments_lexer": "ipython3",
   "version": "3.10.11"
  }
 },
 "nbformat": 4,
 "nbformat_minor": 5
}
